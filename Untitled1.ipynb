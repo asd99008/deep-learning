{
  "nbformat": 4,
  "nbformat_minor": 0,
  "metadata": {
    "colab": {
      "name": "Untitled1.ipynb",
      "provenance": [],
      "mount_file_id": "1qXrRvvKS4iWdGxkx1LLo0a5PCrEF4z08",
      "authorship_tag": "ABX9TyOxrYdHTsnUCcIs4oNm0Flw",
      "include_colab_link": true
    },
    "kernelspec": {
      "name": "python3",
      "display_name": "Python 3"
    }
  },
  "cells": [
    {
      "cell_type": "markdown",
      "metadata": {
        "id": "view-in-github",
        "colab_type": "text"
      },
      "source": [
        "<a href=\"https://colab.research.google.com/github/asd99008/deep-learning/blob/master/Untitled1.ipynb\" target=\"_parent\"><img src=\"https://colab.research.google.com/assets/colab-badge.svg\" alt=\"Open In Colab\"/></a>"
      ]
    },
    {
      "cell_type": "code",
      "metadata": {
        "id": "cHFxltaLoBJ8",
        "colab_type": "code",
        "outputId": "e099888c-7a74-4e4d-afdd-6033112e73b2",
        "colab": {
          "base_uri": "https://localhost:8080/",
          "height": 134
        }
      },
      "source": [
        "!git clone https://github.com/Tianxiaomo/pytorch-YOLOv4.git"
      ],
      "execution_count": 0,
      "outputs": [
        {
          "output_type": "stream",
          "text": [
            "Cloning into 'pytorch-YOLOv4'...\n",
            "remote: Enumerating objects: 103, done.\u001b[K\n",
            "remote: Counting objects:   0% (1/103)\u001b[K\rremote: Counting objects:   1% (2/103)\u001b[K\rremote: Counting objects:   2% (3/103)\u001b[K\rremote: Counting objects:   3% (4/103)\u001b[K\rremote: Counting objects:   4% (5/103)\u001b[K\rremote: Counting objects:   5% (6/103)\u001b[K\rremote: Counting objects:   6% (7/103)\u001b[K\rremote: Counting objects:   7% (8/103)\u001b[K\rremote: Counting objects:   8% (9/103)\u001b[K\rremote: Counting objects:   9% (10/103)\u001b[K\rremote: Counting objects:  10% (11/103)\u001b[K\rremote: Counting objects:  11% (12/103)\u001b[K\rremote: Counting objects:  12% (13/103)\u001b[K\rremote: Counting objects:  13% (14/103)\u001b[K\rremote: Counting objects:  14% (15/103)\u001b[K\rremote: Counting objects:  15% (16/103)\u001b[K\rremote: Counting objects:  16% (17/103)\u001b[K\rremote: Counting objects:  17% (18/103)\u001b[K\rremote: Counting objects:  18% (19/103)\u001b[K\rremote: Counting objects:  19% (20/103)\u001b[K\rremote: Counting objects:  20% (21/103)\u001b[K\rremote: Counting objects:  21% (22/103)\u001b[K\rremote: Counting objects:  22% (23/103)\u001b[K\rremote: Counting objects:  23% (24/103)\u001b[K\rremote: Counting objects:  24% (25/103)\u001b[K\rremote: Counting objects:  25% (26/103)\u001b[K\rremote: Counting objects:  26% (27/103)\u001b[K\rremote: Counting objects:  27% (28/103)\u001b[K\rremote: Counting objects:  28% (29/103)\u001b[K\rremote: Counting objects:  29% (30/103)\u001b[K\rremote: Counting objects:  30% (31/103)\u001b[K\rremote: Counting objects:  31% (32/103)\u001b[K\rremote: Counting objects:  32% (33/103)\u001b[K\rremote: Counting objects:  33% (34/103)\u001b[K\rremote: Counting objects:  34% (36/103)\u001b[K\rremote: Counting objects:  35% (37/103)\u001b[K\rremote: Counting objects:  36% (38/103)\u001b[K\rremote: Counting objects:  37% (39/103)\u001b[K\rremote: Counting objects:  38% (40/103)\u001b[K\rremote: Counting objects:  39% (41/103)\u001b[K\rremote: Counting objects:  40% (42/103)\u001b[K\rremote: Counting objects:  41% (43/103)\u001b[K\rremote: Counting objects:  42% (44/103)\u001b[K\rremote: Counting objects:  43% (45/103)\u001b[K\rremote: Counting objects:  44% (46/103)\u001b[K\rremote: Counting objects:  45% (47/103)\u001b[K\rremote: Counting objects:  46% (48/103)\u001b[K\rremote: Counting objects:  47% (49/103)\u001b[K\rremote: Counting objects:  48% (50/103)\u001b[K\rremote: Counting objects:  49% (51/103)\u001b[K\rremote: Counting objects:  50% (52/103)\u001b[K\rremote: Counting objects:  51% (53/103)\u001b[K\rremote: Counting objects:  52% (54/103)\u001b[K\rremote: Counting objects:  53% (55/103)\u001b[K\rremote: Counting objects:  54% (56/103)\u001b[K\rremote: Counting objects:  55% (57/103)\u001b[K\rremote: Counting objects:  56% (58/103)\u001b[K\rremote: Counting objects:  57% (59/103)\u001b[K\rremote: Counting objects:  58% (60/103)\u001b[K\rremote: Counting objects:  59% (61/103)\u001b[K\rremote: Counting objects:  60% (62/103)\u001b[K\rremote: Counting objects:  61% (63/103)\u001b[K\rremote: Counting objects:  62% (64/103)\u001b[K\rremote: Counting objects:  63% (65/103)\u001b[K\rremote: Counting objects:  64% (66/103)\u001b[K\rremote: Counting objects:  65% (67/103)\u001b[K\rremote: Counting objects:  66% (68/103)\u001b[K\rremote: Counting objects:  67% (70/103)\u001b[K\rremote: Counting objects:  68% (71/103)\u001b[K\rremote: Counting objects:  69% (72/103)\u001b[K\rremote: Counting objects:  70% (73/103)\u001b[K\rremote: Counting objects:  71% (74/103)\u001b[K\rremote: Counting objects:  72% (75/103)\u001b[K\rremote: Counting objects:  73% (76/103)\u001b[K\rremote: Counting objects:  74% (77/103)\u001b[K\rremote: Counting objects:  75% (78/103)\u001b[K\rremote: Counting objects:  76% (79/103)\u001b[K\rremote: Counting objects:  77% (80/103)\u001b[K\rremote: Counting objects:  78% (81/103)\u001b[K\rremote: Counting objects:  79% (82/103)\u001b[K\rremote: Counting objects:  80% (83/103)\u001b[K\rremote: Counting objects:  81% (84/103)\u001b[K\rremote: Counting objects:  82% (85/103)\u001b[K\rremote: Counting objects:  83% (86/103)\u001b[K\rremote: Counting objects:  84% (87/103)\u001b[K\rremote: Counting objects:  85% (88/103)\u001b[K\rremote: Counting objects:  86% (89/103)\u001b[K\rremote: Counting objects:  87% (90/103)\u001b[K\rremote: Counting objects:  88% (91/103)\u001b[K\rremote: Counting objects:  89% (92/103)\u001b[K\rremote: Counting objects:  90% (93/103)\u001b[K\rremote: Counting objects:  91% (94/103)\u001b[K\rremote: Counting objects:  92% (95/103)\u001b[K\rremote: Counting objects:  93% (96/103)\u001b[K\rremote: Counting objects:  94% (97/103)\u001b[K\rremote: Counting objects:  95% (98/103)\u001b[K\rremote: Counting objects:  96% (99/103)\u001b[K\rremote: Counting objects:  97% (100/103)\u001b[K\rremote: Counting objects:  98% (101/103)\u001b[K\rremote: Counting objects:  99% (102/103)\u001b[K\rremote: Counting objects: 100% (103/103)\u001b[K\rremote: Counting objects: 100% (103/103), done.\u001b[K\n",
            "remote: Compressing objects:   1% (1/68)\u001b[K\rremote: Compressing objects:   2% (2/68)\u001b[K\rremote: Compressing objects:   4% (3/68)\u001b[K\rremote: Compressing objects:   5% (4/68)\u001b[K\rremote: Compressing objects:   7% (5/68)\u001b[K\rremote: Compressing objects:   8% (6/68)\u001b[K\rremote: Compressing objects:  10% (7/68)\u001b[K\rremote: Compressing objects:  11% (8/68)\u001b[K\rremote: Compressing objects:  13% (9/68)\u001b[K\rremote: Compressing objects:  14% (10/68)\u001b[K\rremote: Compressing objects:  16% (11/68)\u001b[K\rremote: Compressing objects:  17% (12/68)\u001b[K\rremote: Compressing objects:  19% (13/68)\u001b[K\rremote: Compressing objects:  20% (14/68)\u001b[K\rremote: Compressing objects:  22% (15/68)\u001b[K\rremote: Compressing objects:  23% (16/68)\u001b[K\rremote: Compressing objects:  25% (17/68)\u001b[K\rremote: Compressing objects:  26% (18/68)\u001b[K\rremote: Compressing objects:  27% (19/68)\u001b[K\rremote: Compressing objects:  29% (20/68)\u001b[K\rremote: Compressing objects:  30% (21/68)\u001b[K\rremote: Compressing objects:  32% (22/68)\u001b[K\rremote: Compressing objects:  33% (23/68)\u001b[K\rremote: Compressing objects:  35% (24/68)\u001b[K\rremote: Compressing objects:  36% (25/68)\u001b[K\rremote: Compressing objects:  38% (26/68)\u001b[K\rremote: Compressing objects:  39% (27/68)\u001b[K\rremote: Compressing objects:  41% (28/68)\u001b[K\rremote: Compressing objects:  42% (29/68)\u001b[K\rremote: Compressing objects:  44% (30/68)\u001b[K\rremote: Compressing objects:  45% (31/68)\u001b[K\rremote: Compressing objects:  47% (32/68)\u001b[K\rremote: Compressing objects:  48% (33/68)\u001b[K\rremote: Compressing objects:  50% (34/68)\u001b[K\rremote: Compressing objects:  51% (35/68)\u001b[K\rremote: Compressing objects:  52% (36/68)\u001b[K\rremote: Compressing objects:  54% (37/68)\u001b[K\rremote: Compressing objects:  55% (38/68)\u001b[K\rremote: Compressing objects:  57% (39/68)\u001b[K\rremote: Compressing objects:  58% (40/68)\u001b[K\rremote: Compressing objects:  60% (41/68)\u001b[K\rremote: Compressing objects:  61% (42/68)\u001b[K\rremote: Compressing objects:  63% (43/68)\u001b[K\rremote: Compressing objects:  64% (44/68)\u001b[K\rremote: Compressing objects:  66% (45/68)\u001b[K\rremote: Compressing objects:  67% (46/68)\u001b[K\rremote: Compressing objects:  69% (47/68)\u001b[K\rremote: Compressing objects:  70% (48/68)\u001b[K\rremote: Compressing objects:  72% (49/68)\u001b[K\rremote: Compressing objects:  73% (50/68)\u001b[K\rremote: Compressing objects:  75% (51/68)\u001b[K\rremote: Compressing objects:  76% (52/68)\u001b[K\rremote: Compressing objects:  77% (53/68)\u001b[K\rremote: Compressing objects:  79% (54/68)\u001b[K\rremote: Compressing objects:  80% (55/68)\u001b[K\rremote: Compressing objects:  82% (56/68)\u001b[K\rremote: Compressing objects:  83% (57/68)\u001b[K\rremote: Compressing objects:  85% (58/68)\u001b[K\rremote: Compressing objects:  86% (59/68)\u001b[K\rremote: Compressing objects:  88% (60/68)\u001b[K\rremote: Compressing objects:  89% (61/68)\u001b[K\rremote: Compressing objects:  91% (62/68)\u001b[K\rremote: Compressing objects:  92% (63/68)\u001b[K\rremote: Compressing objects:  94% (64/68)\u001b[K\rremote: Compressing objects:  95% (65/68)\u001b[K\rremote: Compressing objects:  97% (66/68)\u001b[K\rremote: Compressing objects:  98% (67/68)\u001b[K\rremote: Compressing objects: 100% (68/68)\u001b[K\rremote: Compressing objects: 100% (68/68), done.\u001b[K\n",
            "Receiving objects:   0% (1/103)   \rReceiving objects:   1% (2/103)   \rReceiving objects:   2% (3/103)   \rReceiving objects:   3% (4/103)   \rReceiving objects:   4% (5/103)   \rReceiving objects:   5% (6/103)   \rReceiving objects:   6% (7/103)   \rReceiving objects:   7% (8/103)   \rReceiving objects:   8% (9/103)   \rReceiving objects:   9% (10/103)   \rReceiving objects:  10% (11/103)   \rReceiving objects:  11% (12/103)   \rReceiving objects:  12% (13/103)   \rReceiving objects:  13% (14/103)   \rReceiving objects:  14% (15/103)   \rReceiving objects:  15% (16/103)   \rReceiving objects:  16% (17/103)   \rReceiving objects:  17% (18/103)   \rReceiving objects:  18% (19/103)   \rReceiving objects:  19% (20/103)   \rReceiving objects:  20% (21/103)   \rReceiving objects:  21% (22/103)   \rReceiving objects:  22% (23/103)   \rReceiving objects:  23% (24/103)   \rReceiving objects:  24% (25/103)   \rReceiving objects:  25% (26/103)   \rReceiving objects:  26% (27/103)   \rReceiving objects:  27% (28/103)   \rReceiving objects:  28% (29/103)   \rReceiving objects:  29% (30/103)   \rReceiving objects:  30% (31/103)   \rReceiving objects:  31% (32/103)   \rReceiving objects:  32% (33/103)   \rReceiving objects:  33% (34/103)   \rReceiving objects:  34% (36/103)   \rReceiving objects:  35% (37/103)   \rReceiving objects:  36% (38/103)   \rReceiving objects:  37% (39/103)   \rReceiving objects:  38% (40/103)   \rReceiving objects:  39% (41/103)   \rReceiving objects:  40% (42/103)   \rReceiving objects:  41% (43/103)   \rReceiving objects:  42% (44/103)   \rReceiving objects:  43% (45/103)   \rReceiving objects:  44% (46/103)   \rReceiving objects:  45% (47/103)   \rReceiving objects:  46% (48/103)   \rReceiving objects:  47% (49/103)   \rReceiving objects:  48% (50/103)   \rReceiving objects:  49% (51/103)   \rReceiving objects:  50% (52/103)   \rReceiving objects:  51% (53/103)   \rReceiving objects:  52% (54/103)   \rReceiving objects:  53% (55/103)   \rReceiving objects:  54% (56/103)   \rReceiving objects:  55% (57/103)   \rReceiving objects:  56% (58/103)   \rReceiving objects:  57% (59/103)   \rReceiving objects:  58% (60/103)   \rReceiving objects:  59% (61/103)   \rReceiving objects:  60% (62/103)   \rReceiving objects:  61% (63/103)   \rReceiving objects:  62% (64/103)   \rReceiving objects:  63% (65/103)   \rReceiving objects:  64% (66/103)   \rReceiving objects:  65% (67/103)   \rReceiving objects:  66% (68/103)   \rReceiving objects:  67% (70/103)   \rReceiving objects:  68% (71/103)   \rReceiving objects:  69% (72/103)   \rReceiving objects:  70% (73/103)   \rReceiving objects:  71% (74/103)   \rReceiving objects:  72% (75/103)   \rReceiving objects:  73% (76/103)   \rReceiving objects:  74% (77/103)   \rReceiving objects:  75% (78/103)   \rReceiving objects:  76% (79/103)   \rReceiving objects:  77% (80/103)   \rReceiving objects:  78% (81/103)   \rReceiving objects:  79% (82/103)   \rReceiving objects:  80% (83/103)   \rReceiving objects:  81% (84/103)   \rremote: Total 103 (delta 38), reused 94 (delta 30), pack-reused 0\u001b[K\n",
            "Receiving objects:  82% (85/103)   \rReceiving objects:  83% (86/103)   \rReceiving objects:  84% (87/103)   \rReceiving objects:  85% (88/103)   \rReceiving objects:  86% (89/103)   \rReceiving objects:  87% (90/103)   \rReceiving objects:  88% (91/103)   \rReceiving objects:  89% (92/103)   \rReceiving objects:  90% (93/103)   \rReceiving objects:  91% (94/103)   \rReceiving objects:  92% (95/103)   \rReceiving objects:  93% (96/103)   \rReceiving objects:  94% (97/103)   \rReceiving objects:  95% (98/103)   \rReceiving objects:  96% (99/103)   \rReceiving objects:  97% (100/103)   \rReceiving objects:  98% (101/103)   \rReceiving objects:  99% (102/103)   \rReceiving objects: 100% (103/103)   \rReceiving objects: 100% (103/103), 821.49 KiB | 14.94 MiB/s, done.\n",
            "Resolving deltas:   0% (0/38)   \rResolving deltas:   2% (1/38)   \rResolving deltas:   5% (2/38)   \rResolving deltas:  23% (9/38)   \rResolving deltas:  34% (13/38)   \rResolving deltas:  36% (14/38)   \rResolving deltas:  39% (15/38)   \rResolving deltas:  44% (17/38)   \rResolving deltas:  50% (19/38)   \rResolving deltas:  60% (23/38)   \rResolving deltas:  68% (26/38)   \rResolving deltas:  71% (27/38)   \rResolving deltas:  73% (28/38)   \rResolving deltas:  81% (31/38)   \rResolving deltas:  84% (32/38)   \rResolving deltas:  97% (37/38)   \rResolving deltas: 100% (38/38)   \rResolving deltas: 100% (38/38), done.\n"
          ],
          "name": "stdout"
        }
      ]
    },
    {
      "cell_type": "code",
      "metadata": {
        "id": "Ba1jvaBPp3Y-",
        "colab_type": "code",
        "outputId": "fbb0c3dd-87bd-4fce-aa89-647fc4804bfa",
        "colab": {
          "base_uri": "https://localhost:8080/",
          "height": 877
        }
      },
      "source": [
        "import os\n",
        "os.chdir('/content/pytorch-YOLOv4')\n",
        "!python demo.py"
      ],
      "execution_count": 0,
      "outputs": [
        {
          "output_type": "stream",
          "text": [
            "Usage: \n",
            "  python demo.py cfgfile weightfile imgfile\n",
            "convalution havn't activate linear\n",
            "convalution havn't activate linear\n",
            "layer     filters    size              input                output\n",
            "    0 conv     16  3 x 3 / 1   416 x 416 x   3   ->   416 x 416 x  16\n",
            "    1 max          2 x 2 / 2   416 x 416 x  16   ->   208 x 208 x  16\n",
            "    2 conv     32  3 x 3 / 1   208 x 208 x  16   ->   208 x 208 x  32\n",
            "    3 max          2 x 2 / 2   208 x 208 x  32   ->   104 x 104 x  32\n",
            "    4 conv     64  3 x 3 / 1   104 x 104 x  32   ->   104 x 104 x  64\n",
            "    5 max          2 x 2 / 2   104 x 104 x  64   ->    52 x  52 x  64\n",
            "    6 conv    128  3 x 3 / 1    52 x  52 x  64   ->    52 x  52 x 128\n",
            "    7 max          2 x 2 / 2    52 x  52 x 128   ->    26 x  26 x 128\n",
            "    8 conv    256  3 x 3 / 1    26 x  26 x 128   ->    26 x  26 x 256\n",
            "    9 max          2 x 2 / 2    26 x  26 x 256   ->    13 x  13 x 256\n",
            "   10 conv    512  3 x 3 / 1    13 x  13 x 256   ->    13 x  13 x 512\n",
            "   11 max          2 x 2 / 1    13 x  13 x 512   ->    13 x  13 x 512\n",
            "   12 conv   1024  3 x 3 / 1    13 x  13 x 512   ->    13 x  13 x1024\n",
            "   13 conv    256  1 x 1 / 1    13 x  13 x1024   ->    13 x  13 x 256\n",
            "   14 conv    512  3 x 3 / 1    13 x  13 x 256   ->    13 x  13 x 512\n",
            "   15 conv    255  1 x 1 / 1    13 x  13 x 512   ->    13 x  13 x 255\n",
            "   16 detection\n",
            "   17 route  13\n",
            "   18 conv    128  1 x 1 / 1    13 x  13 x 256   ->    13 x  13 x 128\n",
            "   19 upsample           * 2    13 x  13 x 128   ->    26 x  26 x 128\n",
            "   20 route  19 8\n",
            "   21 conv    256  3 x 3 / 1    26 x  26 x 384   ->    26 x  26 x 256\n",
            "   22 conv    255  1 x 1 / 1    26 x  26 x 256   ->    26 x  26 x 255\n",
            "   23 detection\n",
            "Loading weights from /content/drive/My Drive/Mask_RCNN/yolov4.weights... Done!\n",
            "Traceback (most recent call last):\n",
            "  File \"demo.py\", line 134, in <module>\n",
            "    detect('/content/pytorch-YOLOv4/cfg/yolov3-tiny.cfg', '/content/drive/My Drive/Mask_RCNN/yolov4.weights', '/content/pytorch-YOLOv4/data/dog.jpg')\n",
            "  File \"demo.py\", line 46, in detect\n",
            "    boxes = do_detect(m, sized, 0.5, 0.4, use_cuda)\n",
            "  File \"/content/pytorch-YOLOv4/utils/utils.py\", line 356, in do_detect\n",
            "    list_boxes = model(img)\n",
            "  File \"/usr/local/lib/python3.6/dist-packages/torch/nn/modules/module.py\", line 532, in __call__\n",
            "    result = self.forward(*input, **kwargs)\n",
            "  File \"/content/pytorch-YOLOv4/tool/darknet2pytorch.py\", line 179, in forward\n",
            "    boxes = self.models[ind](x)\n",
            "  File \"/usr/local/lib/python3.6/dist-packages/torch/nn/modules/module.py\", line 532, in __call__\n",
            "    result = self.forward(*input, **kwargs)\n",
            "  File \"/content/pytorch-YOLOv4/utils/yolo_layer.py\", line 207, in forward\n",
            "    boxes = get_region_boxes(output.data, self.thresh, self.num_classes, masked_anchors, len(self.anchor_mask))\n",
            "  File \"/content/pytorch-YOLOv4/utils/utils.py\", line 151, in get_region_boxes\n",
            "    cls_confs = torch.nn.Softmax()(Variable(output[5:5 + num_classes].transpose(0, 1)), dim = 1).data\n",
            "  File \"/usr/local/lib/python3.6/dist-packages/torch/nn/modules/module.py\", line 532, in __call__\n",
            "    result = self.forward(*input, **kwargs)\n",
            "TypeError: forward() got an unexpected keyword argument 'dim'\n"
          ],
          "name": "stdout"
        }
      ]
    },
    {
      "cell_type": "code",
      "metadata": {
        "id": "jh21FEtuqJ-H",
        "colab_type": "code",
        "colab": {
          "base_uri": "https://localhost:8080/",
          "height": 101
        },
        "outputId": "f5b73a05-8350-4840-95c7-6ae0f5a6c9af"
      },
      "source": [
        "!git clone https://github.com/eriklindernoren/PyTorch-YOLOv3.git"
      ],
      "execution_count": 1,
      "outputs": [
        {
          "output_type": "stream",
          "text": [
            "Cloning into 'PyTorch-YOLOv3'...\n",
            "remote: Enumerating objects: 724, done.\u001b[K\n",
            "remote: Total 724 (delta 0), reused 0 (delta 0), pack-reused 724\u001b[K\n",
            "Receiving objects: 100% (724/724), 16.18 MiB | 15.04 MiB/s, done.\n",
            "Resolving deltas: 100% (413/413), done.\n"
          ],
          "name": "stdout"
        }
      ]
    },
    {
      "cell_type": "code",
      "metadata": {
        "id": "EJrf7j1-LeAP",
        "colab_type": "code",
        "colab": {
          "base_uri": "https://localhost:8080/",
          "height": 944
        },
        "outputId": "c62e7b22-a93f-4724-8998-334f810ed431"
      },
      "source": [
        "import os\n",
        "os.chdir('/content/PyTorch-YOLOv3')\n",
        "!pip install -r requirements.txt"
      ],
      "execution_count": 2,
      "outputs": [
        {
          "output_type": "stream",
          "text": [
            "Requirement already satisfied: numpy in /usr/local/lib/python3.6/dist-packages (from -r requirements.txt (line 1)) (1.18.3)\n",
            "Requirement already satisfied: torch>=1.0 in /usr/local/lib/python3.6/dist-packages (from -r requirements.txt (line 2)) (1.5.0+cu101)\n",
            "Requirement already satisfied: torchvision in /usr/local/lib/python3.6/dist-packages (from -r requirements.txt (line 3)) (0.6.0+cu101)\n",
            "Requirement already satisfied: matplotlib in /usr/local/lib/python3.6/dist-packages (from -r requirements.txt (line 4)) (3.2.1)\n",
            "Requirement already satisfied: tensorflow in /usr/local/lib/python3.6/dist-packages (from -r requirements.txt (line 5)) (2.2.0rc3)\n",
            "Requirement already satisfied: tensorboard in /usr/local/lib/python3.6/dist-packages (from -r requirements.txt (line 6)) (2.2.1)\n",
            "Collecting terminaltables\n",
            "  Downloading https://files.pythonhosted.org/packages/9b/c4/4a21174f32f8a7e1104798c445dacdc1d4df86f2f26722767034e4de4bff/terminaltables-3.1.0.tar.gz\n",
            "Requirement already satisfied: pillow in /usr/local/lib/python3.6/dist-packages (from -r requirements.txt (line 8)) (7.0.0)\n",
            "Requirement already satisfied: tqdm in /usr/local/lib/python3.6/dist-packages (from -r requirements.txt (line 9)) (4.38.0)\n",
            "Requirement already satisfied: future in /usr/local/lib/python3.6/dist-packages (from torch>=1.0->-r requirements.txt (line 2)) (0.16.0)\n",
            "Requirement already satisfied: cycler>=0.10 in /usr/local/lib/python3.6/dist-packages (from matplotlib->-r requirements.txt (line 4)) (0.10.0)\n",
            "Requirement already satisfied: pyparsing!=2.0.4,!=2.1.2,!=2.1.6,>=2.0.1 in /usr/local/lib/python3.6/dist-packages (from matplotlib->-r requirements.txt (line 4)) (2.4.7)\n",
            "Requirement already satisfied: python-dateutil>=2.1 in /usr/local/lib/python3.6/dist-packages (from matplotlib->-r requirements.txt (line 4)) (2.8.1)\n",
            "Requirement already satisfied: kiwisolver>=1.0.1 in /usr/local/lib/python3.6/dist-packages (from matplotlib->-r requirements.txt (line 4)) (1.2.0)\n",
            "Requirement already satisfied: gast==0.3.3 in /usr/local/lib/python3.6/dist-packages (from tensorflow->-r requirements.txt (line 5)) (0.3.3)\n",
            "Requirement already satisfied: keras-preprocessing>=1.1.0 in /usr/local/lib/python3.6/dist-packages (from tensorflow->-r requirements.txt (line 5)) (1.1.0)\n",
            "Requirement already satisfied: absl-py>=0.7.0 in /usr/local/lib/python3.6/dist-packages (from tensorflow->-r requirements.txt (line 5)) (0.9.0)\n",
            "Requirement already satisfied: termcolor>=1.1.0 in /usr/local/lib/python3.6/dist-packages (from tensorflow->-r requirements.txt (line 5)) (1.1.0)\n",
            "Requirement already satisfied: grpcio>=1.8.6 in /usr/local/lib/python3.6/dist-packages (from tensorflow->-r requirements.txt (line 5)) (1.28.1)\n",
            "Requirement already satisfied: wheel>=0.26; python_version >= \"3\" in /usr/local/lib/python3.6/dist-packages (from tensorflow->-r requirements.txt (line 5)) (0.34.2)\n",
            "Requirement already satisfied: astunparse==1.6.3 in /usr/local/lib/python3.6/dist-packages (from tensorflow->-r requirements.txt (line 5)) (1.6.3)\n",
            "Requirement already satisfied: wrapt>=1.11.1 in /usr/local/lib/python3.6/dist-packages (from tensorflow->-r requirements.txt (line 5)) (1.12.1)\n",
            "Requirement already satisfied: h5py<2.11.0,>=2.10.0 in /usr/local/lib/python3.6/dist-packages (from tensorflow->-r requirements.txt (line 5)) (2.10.0)\n",
            "Requirement already satisfied: opt-einsum>=2.3.2 in /usr/local/lib/python3.6/dist-packages (from tensorflow->-r requirements.txt (line 5)) (3.2.1)\n",
            "Requirement already satisfied: scipy==1.4.1; python_version >= \"3\" in /usr/local/lib/python3.6/dist-packages (from tensorflow->-r requirements.txt (line 5)) (1.4.1)\n",
            "Requirement already satisfied: protobuf>=3.8.0 in /usr/local/lib/python3.6/dist-packages (from tensorflow->-r requirements.txt (line 5)) (3.10.0)\n",
            "Requirement already satisfied: tensorflow-estimator<2.3.0,>=2.2.0rc0 in /usr/local/lib/python3.6/dist-packages (from tensorflow->-r requirements.txt (line 5)) (2.2.0)\n",
            "Requirement already satisfied: google-pasta>=0.1.8 in /usr/local/lib/python3.6/dist-packages (from tensorflow->-r requirements.txt (line 5)) (0.2.0)\n",
            "Requirement already satisfied: six>=1.12.0 in /usr/local/lib/python3.6/dist-packages (from tensorflow->-r requirements.txt (line 5)) (1.12.0)\n",
            "Requirement already satisfied: setuptools>=41.0.0 in /usr/local/lib/python3.6/dist-packages (from tensorboard->-r requirements.txt (line 6)) (46.1.3)\n",
            "Requirement already satisfied: requests<3,>=2.21.0 in /usr/local/lib/python3.6/dist-packages (from tensorboard->-r requirements.txt (line 6)) (2.21.0)\n",
            "Requirement already satisfied: google-auth-oauthlib<0.5,>=0.4.1 in /usr/local/lib/python3.6/dist-packages (from tensorboard->-r requirements.txt (line 6)) (0.4.1)\n",
            "Requirement already satisfied: werkzeug>=0.11.15 in /usr/local/lib/python3.6/dist-packages (from tensorboard->-r requirements.txt (line 6)) (1.0.1)\n",
            "Requirement already satisfied: markdown>=2.6.8 in /usr/local/lib/python3.6/dist-packages (from tensorboard->-r requirements.txt (line 6)) (3.2.1)\n",
            "Requirement already satisfied: google-auth<2,>=1.6.3 in /usr/local/lib/python3.6/dist-packages (from tensorboard->-r requirements.txt (line 6)) (1.7.2)\n",
            "Requirement already satisfied: tensorboard-plugin-wit>=1.6.0 in /usr/local/lib/python3.6/dist-packages (from tensorboard->-r requirements.txt (line 6)) (1.6.0.post3)\n",
            "Requirement already satisfied: urllib3<1.25,>=1.21.1 in /usr/local/lib/python3.6/dist-packages (from requests<3,>=2.21.0->tensorboard->-r requirements.txt (line 6)) (1.24.3)\n",
            "Requirement already satisfied: chardet<3.1.0,>=3.0.2 in /usr/local/lib/python3.6/dist-packages (from requests<3,>=2.21.0->tensorboard->-r requirements.txt (line 6)) (3.0.4)\n",
            "Requirement already satisfied: idna<2.9,>=2.5 in /usr/local/lib/python3.6/dist-packages (from requests<3,>=2.21.0->tensorboard->-r requirements.txt (line 6)) (2.8)\n",
            "Requirement already satisfied: certifi>=2017.4.17 in /usr/local/lib/python3.6/dist-packages (from requests<3,>=2.21.0->tensorboard->-r requirements.txt (line 6)) (2020.4.5.1)\n",
            "Requirement already satisfied: requests-oauthlib>=0.7.0 in /usr/local/lib/python3.6/dist-packages (from google-auth-oauthlib<0.5,>=0.4.1->tensorboard->-r requirements.txt (line 6)) (1.3.0)\n",
            "Requirement already satisfied: rsa<4.1,>=3.1.4 in /usr/local/lib/python3.6/dist-packages (from google-auth<2,>=1.6.3->tensorboard->-r requirements.txt (line 6)) (4.0)\n",
            "Requirement already satisfied: pyasn1-modules>=0.2.1 in /usr/local/lib/python3.6/dist-packages (from google-auth<2,>=1.6.3->tensorboard->-r requirements.txt (line 6)) (0.2.8)\n",
            "Requirement already satisfied: cachetools<3.2,>=2.0.0 in /usr/local/lib/python3.6/dist-packages (from google-auth<2,>=1.6.3->tensorboard->-r requirements.txt (line 6)) (3.1.1)\n",
            "Requirement already satisfied: oauthlib>=3.0.0 in /usr/local/lib/python3.6/dist-packages (from requests-oauthlib>=0.7.0->google-auth-oauthlib<0.5,>=0.4.1->tensorboard->-r requirements.txt (line 6)) (3.1.0)\n",
            "Requirement already satisfied: pyasn1>=0.1.3 in /usr/local/lib/python3.6/dist-packages (from rsa<4.1,>=3.1.4->google-auth<2,>=1.6.3->tensorboard->-r requirements.txt (line 6)) (0.4.8)\n",
            "Building wheels for collected packages: terminaltables\n",
            "  Building wheel for terminaltables (setup.py) ... \u001b[?25l\u001b[?25hdone\n",
            "  Created wheel for terminaltables: filename=terminaltables-3.1.0-cp36-none-any.whl size=15356 sha256=e61c7cec79513cfd51dbe0de7e8443b14c54782dade3daa4e1f7dac5de6c12d4\n",
            "  Stored in directory: /root/.cache/pip/wheels/30/6b/50/6c75775b681fb36cdfac7f19799888ef9d8813aff9e379663e\n",
            "Successfully built terminaltables\n",
            "Installing collected packages: terminaltables\n",
            "Successfully installed terminaltables-3.1.0\n"
          ],
          "name": "stdout"
        }
      ]
    },
    {
      "cell_type": "code",
      "metadata": {
        "id": "PH3BMy-2Lz5I",
        "colab_type": "code",
        "colab": {
          "base_uri": "https://localhost:8080/",
          "height": 571
        },
        "outputId": "2988503f-0985-4f96-9620-b07bb7379c4b"
      },
      "source": [
        "os.chdir('/content/PyTorch-YOLOv3/weights')\n",
        "!bash download_weights.sh"
      ],
      "execution_count": 3,
      "outputs": [
        {
          "output_type": "stream",
          "text": [
            "--2020-04-29 09:07:23--  https://pjreddie.com/media/files/yolov3.weights\n",
            "Resolving pjreddie.com (pjreddie.com)... 128.208.4.108\n",
            "Connecting to pjreddie.com (pjreddie.com)|128.208.4.108|:443... connected.\n",
            "HTTP request sent, awaiting response... 200 OK\n",
            "Length: 248007048 (237M) [application/octet-stream]\n",
            "Saving to: ‘yolov3.weights’\n",
            "\n",
            "yolov3.weights      100%[===================>] 236.52M  67.1KB/s    in 38m 8s  \n",
            "\n",
            "2020-04-29 09:45:33 (106 KB/s) - ‘yolov3.weights’ saved [248007048/248007048]\n",
            "\n",
            "--2020-04-29 09:45:33--  https://pjreddie.com/media/files/yolov3-tiny.weights\n",
            "Resolving pjreddie.com (pjreddie.com)... 128.208.4.108\n",
            "Connecting to pjreddie.com (pjreddie.com)|128.208.4.108|:443... connected.\n",
            "HTTP request sent, awaiting response... 200 OK\n",
            "Length: 35434956 (34M) [application/octet-stream]\n",
            "Saving to: ‘yolov3-tiny.weights’\n",
            "\n",
            "yolov3-tiny.weights 100%[===================>]  33.79M  49.6KB/s    in 6m 50s  \n",
            "\n",
            "2020-04-29 09:52:25 (84.4 KB/s) - ‘yolov3-tiny.weights’ saved [35434956/35434956]\n",
            "\n",
            "--2020-04-29 09:52:25--  https://pjreddie.com/media/files/darknet53.conv.74\n",
            "Resolving pjreddie.com (pjreddie.com)... 128.208.4.108\n",
            "Connecting to pjreddie.com (pjreddie.com)|128.208.4.108|:443... connected.\n",
            "HTTP request sent, awaiting response... 200 OK\n",
            "Length: 162482580 (155M) [application/octet-stream]\n",
            "Saving to: ‘darknet53.conv.74’\n",
            "\n",
            "darknet53.conv.74   100%[===================>] 154.96M   181KB/s    in 33m 0s  \n",
            "\n",
            "2020-04-29 10:25:26 (80.1 KB/s) - ‘darknet53.conv.74’ saved [162482580/162482580]\n",
            "\n"
          ],
          "name": "stdout"
        }
      ]
    },
    {
      "cell_type": "code",
      "metadata": {
        "id": "3BArEiHIgMU2",
        "colab_type": "code",
        "colab": {}
      },
      "source": [
        ""
      ],
      "execution_count": 0,
      "outputs": []
    }
  ]
}